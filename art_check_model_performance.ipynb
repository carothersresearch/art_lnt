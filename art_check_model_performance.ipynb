{
 "cells": [
  {
   "cell_type": "markdown",
   "id": "dc8ebbec-f31b-47ca-b064-c70b951c0cb0",
   "metadata": {},
   "source": [
    "# Check performance of individual ART models"
   ]
  },
  {
   "cell_type": "code",
   "execution_count": 1,
   "id": "c75f7680-469f-4702-be2a-05e0b844ce3b",
   "metadata": {
    "tags": []
   },
   "outputs": [
    {
     "name": "stderr",
     "output_type": "stream",
     "text": [
      "WARNING (pytensor.tensor.blas): Using NumPy C-API based implementation for BLAS functions.\n",
      "/usr/local/art/.venv/lib/python3.11/site-packages/tpot/builtins/__init__.py:36: UserWarning: Warning: optional dependency `torch` is not available. - skipping import of NN models.\n",
      "  warnings.warn(\"Warning: optional dependency `torch` is not available. - skipping import of NN models.\")\n"
     ]
    }
   ],
   "source": [
    "import numpy as np\n",
    "import seaborn as sns\n",
    "import matplotlib.pyplot as plt\n",
    "from matplotlib import cm\n",
    "\n",
    "import pandas as pd\n",
    "import cloudpickle as cpkl\n",
    "\n",
    "import os\n",
    "import sys\n",
    "sys.path.append('.')   # Add local directory to access some of the functions\n",
    "sys.path.append('../') # Make sure this is the location for the ART library\n",
    "sys.path.append('../art')\n",
    "sys.path.append('../notebooks')\n",
    "import auxiliary_functions\n",
    "import itertools"
   ]
  },
  {
   "cell_type": "markdown",
   "id": "48adb0dd-eb6a-481f-b4ea-36b9e12f2596",
   "metadata": {},
   "source": [
    "Import art"
   ]
  },
  {
   "cell_type": "code",
   "execution_count": 2,
   "id": "dbfbdfc0-8536-4029-ac3f-55535733c202",
   "metadata": {
    "tags": []
   },
   "outputs": [],
   "source": [
    "art_file = './output_morerecs_dist0_04/art.cpkl'\n",
    "with open(art_file, 'rb') as output:\n",
    "        art = cpkl.load(output)"
   ]
  },
  {
   "cell_type": "markdown",
   "id": "4d3735a7-e923-4603-9a1e-37711433b03c",
   "metadata": {},
   "source": [
    "Display the performance of the model (`art.model_df`) and the weights learned by the L1 model (`art.l1_learner.omegas_mean`)"
   ]
  },
  {
   "cell_type": "code",
   "execution_count": 3,
   "id": "ff4c16d7-db0f-4f16-bff4-37d569209482",
   "metadata": {
    "tags": []
   },
   "outputs": [
    {
     "data": {
      "text/plain": [
       "[                                                                   Predictions  \\\n",
       " Name                                                                             \n",
       " Neural Regressor             [42.38061520026472, 41.89307710420013, 51.7327...   \n",
       " Random Forest Regressor      [32.71041791983947, 36.2051511977571, 47.61595...   \n",
       " Support Vector Regressor     [39.83318336020905, 40.27123397954771, 40.2993...   \n",
       " Kernel Ridge Regressor       [21.193653367374097, 20.081976028628958, 22.58...   \n",
       " K-NN Regressor               [21.521218620830496, 42.16256508767638, 42.162...   \n",
       " Gaussian Process Regressor   [42.179723733485474, 34.623220360934546, 62.07...   \n",
       " Gradient Boosting Regressor  [38.493565883346804, 41.61241787816628, 57.380...   \n",
       " TPOT Regressor               [38.61059, 50.678516, 43.39162, -3.4421692, 25...   \n",
       " Ensemble Model               [36.97345451275118, 41.15742165474683, 48.1955...   \n",
       " \n",
       "                                    MAE  MRAE(%)      StdAE           MSE  \\\n",
       " Name                                                                       \n",
       " Neural Regressor             13.947353      inf  12.880215  3.604286e+02   \n",
       " Random Forest Regressor      16.924930      inf  22.524397  7.938017e+02   \n",
       " Support Vector Regressor     58.343835      inf  91.901677  1.184992e+04   \n",
       " Kernel Ridge Regressor       47.926345      inf  63.645366  6.347667e+03   \n",
       " K-NN Regressor               40.004199      inf  52.295653  4.335171e+03   \n",
       " Gaussian Process Regressor    0.000548      inf   0.000626  6.921985e-07   \n",
       " Gradient Boosting Regressor  15.179598      inf  12.025858  3.750415e+02   \n",
       " TPOT Regressor               19.167588      inf  17.919203  6.884942e+02   \n",
       " Ensemble Model               16.737512      inf  18.117380  6.083838e+02   \n",
       " \n",
       "                                 $R^2$  \n",
       " Name                                   \n",
       " Neural Regressor             0.968432  \n",
       " Random Forest Regressor      0.930475  \n",
       " Support Vector Regressor    -0.037868  \n",
       " Kernel Ridge Regressor       0.444044  \n",
       " K-NN Regressor               0.620307  \n",
       " Gaussian Process Regressor   1.000000  \n",
       " Gradient Boosting Regressor  0.967152  \n",
       " TPOT Regressor               0.939699  \n",
       " Ensemble Model               0.946715  ]"
      ]
     },
     "metadata": {},
     "output_type": "display_data"
    },
    {
     "data": {
      "text/plain": [
       "[array([0.        , 0.51078151, 0.07075488, 0.03794289, 0.04074827,\n",
       "        0.15322744, 0.03979352, 0.04678758, 0.0999639 ])]"
      ]
     },
     "metadata": {},
     "output_type": "display_data"
    }
   ],
   "source": [
    "art.l1_learner.omegas_mean\n",
    "display(art.model_df)\n",
    "display(art.l1_learner.omegas_mean)"
   ]
  }
 ],
 "metadata": {
  "kernelspec": {
   "display_name": "Python 3 (ipykernel)",
   "language": "python",
   "name": "python3"
  },
  "language_info": {
   "codemirror_mode": {
    "name": "ipython",
    "version": 3
   },
   "file_extension": ".py",
   "mimetype": "text/x-python",
   "name": "python",
   "nbconvert_exporter": "python",
   "pygments_lexer": "ipython3",
   "version": "3.11.4"
  }
 },
 "nbformat": 4,
 "nbformat_minor": 5
}
